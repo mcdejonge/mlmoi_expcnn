{
 "cells": [
  {
   "cell_type": "markdown",
   "metadata": {},
   "source": [
    "# MoI ML CNN Experiment\n",
    "\n",
    "- Train op fashion mnist\n",
    "- Laat experimenten zien: kies 2 - 3 params, kies een range en voer tests uit. Doel is 93% accuracy."
   ]
  },
  {
   "cell_type": "code",
   "execution_count": 6,
   "metadata": {},
   "outputs": [],
   "source": [
    "import torch\n",
    "import torch.nn as nn\n",
    "import seaborn as sns\n",
    "import sys\n",
    "from pathlib import Path\n",
    "sys.path.insert(0, \"../\")"
   ]
  },
  {
   "cell_type": "code",
   "execution_count": 9,
   "metadata": {},
   "outputs": [],
   "source": [
    "from src.data import make_dataset\n",
    "from src.models import imagemodels\n",
    "from src.models import train_model\n",
    "import gin\n"
   ]
  },
  {
   "cell_type": "code",
   "execution_count": 14,
   "metadata": {},
   "outputs": [
    {
     "data": {
      "text/plain": [
       "ParsedConfigFileIncludesAndImports(filename='cnn.gin', imports=[], includes=[])"
      ]
     },
     "execution_count": 14,
     "metadata": {},
     "output_type": "execute_result"
    }
   ],
   "source": [
    "# Load config for this notebook\n",
    "gin.parse_config_file(\"cnn.gin\")"
   ]
  },
  {
   "cell_type": "code",
   "execution_count": 15,
   "metadata": {},
   "outputs": [
    {
     "name": "stdout",
     "output_type": "stream",
     "text": [
      "Downloading http://fashion-mnist.s3-website.eu-central-1.amazonaws.com/train-images-idx3-ubyte.gz\n",
      "Downloading http://fashion-mnist.s3-website.eu-central-1.amazonaws.com/train-images-idx3-ubyte.gz to ../data/raw/FashionMNIST/raw/train-images-idx3-ubyte.gz\n"
     ]
    },
    {
     "data": {
      "application/vnd.jupyter.widget-view+json": {
       "model_id": "8befddd65a2d429ab02b69f45f8c5632",
       "version_major": 2,
       "version_minor": 0
      },
      "text/plain": [
       "  0%|          | 0/26421880 [00:00<?, ?it/s]"
      ]
     },
     "metadata": {},
     "output_type": "display_data"
    },
    {
     "name": "stdout",
     "output_type": "stream",
     "text": [
      "Extracting ../data/raw/FashionMNIST/raw/train-images-idx3-ubyte.gz to ../data/raw/FashionMNIST/raw\n",
      "\n",
      "Downloading http://fashion-mnist.s3-website.eu-central-1.amazonaws.com/train-labels-idx1-ubyte.gz\n",
      "Downloading http://fashion-mnist.s3-website.eu-central-1.amazonaws.com/train-labels-idx1-ubyte.gz to ../data/raw/FashionMNIST/raw/train-labels-idx1-ubyte.gz\n"
     ]
    },
    {
     "data": {
      "application/vnd.jupyter.widget-view+json": {
       "model_id": "dd28cdfb2639407dbc9f9c4527846e87",
       "version_major": 2,
       "version_minor": 0
      },
      "text/plain": [
       "  0%|          | 0/29515 [00:00<?, ?it/s]"
      ]
     },
     "metadata": {},
     "output_type": "display_data"
    },
    {
     "name": "stdout",
     "output_type": "stream",
     "text": [
      "Extracting ../data/raw/FashionMNIST/raw/train-labels-idx1-ubyte.gz to ../data/raw/FashionMNIST/raw\n",
      "\n",
      "Downloading http://fashion-mnist.s3-website.eu-central-1.amazonaws.com/t10k-images-idx3-ubyte.gz\n",
      "Downloading http://fashion-mnist.s3-website.eu-central-1.amazonaws.com/t10k-images-idx3-ubyte.gz to ../data/raw/FashionMNIST/raw/t10k-images-idx3-ubyte.gz\n"
     ]
    },
    {
     "data": {
      "application/vnd.jupyter.widget-view+json": {
       "model_id": "ada94d3be0704ac28c1a671a9bfae794",
       "version_major": 2,
       "version_minor": 0
      },
      "text/plain": [
       "  0%|          | 0/4422102 [00:00<?, ?it/s]"
      ]
     },
     "metadata": {},
     "output_type": "display_data"
    },
    {
     "name": "stdout",
     "output_type": "stream",
     "text": [
      "Extracting ../data/raw/FashionMNIST/raw/t10k-images-idx3-ubyte.gz to ../data/raw/FashionMNIST/raw\n",
      "\n",
      "Downloading http://fashion-mnist.s3-website.eu-central-1.amazonaws.com/t10k-labels-idx1-ubyte.gz\n",
      "Downloading http://fashion-mnist.s3-website.eu-central-1.amazonaws.com/t10k-labels-idx1-ubyte.gz to ../data/raw/FashionMNIST/raw/t10k-labels-idx1-ubyte.gz\n"
     ]
    },
    {
     "data": {
      "application/vnd.jupyter.widget-view+json": {
       "model_id": "e149d57f2cc849e4b11aa54a13aafd8b",
       "version_major": 2,
       "version_minor": 0
      },
      "text/plain": [
       "  0%|          | 0/5148 [00:00<?, ?it/s]"
      ]
     },
     "metadata": {},
     "output_type": "display_data"
    },
    {
     "name": "stdout",
     "output_type": "stream",
     "text": [
      "Extracting ../data/raw/FashionMNIST/raw/t10k-labels-idx1-ubyte.gz to ../data/raw/FashionMNIST/raw\n",
      "\n"
     ]
    }
   ],
   "source": [
    "# Get MNIST data\n",
    "train_dataloader, test_dataloader = make_dataset.get_MNIST()"
   ]
  },
  {
   "cell_type": "code",
   "execution_count": 12,
   "metadata": {},
   "outputs": [
    {
     "name": "stderr",
     "output_type": "stream",
     "text": [
      "2022-11-30 15:00:29.237 | INFO     | src.data.data_tools:dir_add_timestamp:114 - Logging to models/test/20221130-1500\n"
     ]
    },
    {
     "name": "stdout",
     "output_type": "stream",
     "text": [
      "Using cpu device\n"
     ]
    },
    {
     "name": "stderr",
     "output_type": "stream",
     "text": [
      "100%|██████████| 1875/1875 [00:52<00:00, 35.59it/s]\n",
      "2022-11-30 15:01:26.813 | INFO     | src.models.train_model:trainloop:171 - Epoch 0 train 0.6524 test 0.5236 metric ['0.7986']\n",
      "100%|██████████| 1875/1875 [00:50<00:00, 37.03it/s]\n",
      "2022-11-30 15:02:20.428 | INFO     | src.models.train_model:trainloop:171 - Epoch 1 train 0.4138 test 0.3994 metric ['0.8540']\n",
      "100%|██████████| 2/2 [01:49<00:00, 54.89s/it]\n",
      "2022-11-30 15:02:20.439 | INFO     | src.data.data_tools:dir_add_timestamp:114 - Logging to models/test/20221130-1502\n",
      "100%|██████████| 1875/1875 [00:49<00:00, 37.98it/s]\n",
      "2022-11-30 15:03:13.170 | INFO     | src.models.train_model:trainloop:171 - Epoch 0 train 0.6511 test 0.4833 metric ['0.8192']\n",
      "100%|██████████| 1875/1875 [00:50<00:00, 37.25it/s]\n",
      "2022-11-30 15:04:06.576 | INFO     | src.models.train_model:trainloop:171 - Epoch 1 train 0.4119 test 0.3905 metric ['0.8619']\n",
      "100%|██████████| 2/2 [01:45<00:00, 52.98s/it]\n"
     ]
    }
   ],
   "source": [
    "# Now do an experiment. First create a CNN class that can have different convolutions\n",
    "# Get cpu or gpu device for training.\n",
    "device = \"cuda\" if torch.cuda.is_available() else \"cpu\"\n",
    "print(f\"Using {device} device\")\n",
    "\n",
    "# Set some other parameters\n",
    "import torch.optim as optim\n",
    "from src.models import metrics\n",
    "optimizer = optim.Adam\n",
    "loss_fn = torch.nn.CrossEntropyLoss()\n",
    "accuracy = metrics.Accuracy()\n",
    "from src.models import train_model\n",
    "\n",
    "# Define model\n",
    "class ExpCNN(nn.Module):\n",
    "    def __init__(self):\n",
    "        super().__init__()\n",
    "\n",
    "        # Convolutions are set separately\n",
    "       \n",
    "        # Dense is default\n",
    "        \n",
    "        self.dense = nn.Sequential(\n",
    "            nn.Flatten(),\n",
    "            nn.Linear(128, 64),\n",
    "            nn.ReLU(),\n",
    "            nn.Linear(64, 32),\n",
    "            nn.ReLU(),\n",
    "            nn.Linear(32, 10)\n",
    "        )\n",
    "\n",
    "    def set_convolution(self, conv : nn.Sequential):\n",
    "        self.convolutions = conv\n",
    "\n",
    "    def forward(self, x):\n",
    "        x = self.convolutions(x)\n",
    "        logits = self.dense(x)\n",
    "        return logits\n",
    "\n",
    "# Loop through some kernel sizes\n",
    "for ksize in range(2,4):\n",
    "    conv = nn.Conv2d(\n",
    "        in_channels=1, \n",
    "        out_channels=32,\n",
    "        kernel_size=ksize,\n",
    "        padding=(1,1),\n",
    "        stride=2)\n",
    "    \n",
    "    model = ExpCNN().to(device)\n",
    "    model.set_convolution(nn.Sequential(\n",
    "            nn.Conv2d(1, 32, kernel_size=ksize, stride=1, padding=1),\n",
    "            nn.ReLU(),\n",
    "            nn.MaxPool2d(kernel_size=2),\n",
    "            nn.Conv2d(32, 32, kernel_size=3, stride=1, padding=0),\n",
    "            nn.ReLU(),\n",
    "            nn.MaxPool2d(kernel_size=2),\n",
    "            nn.Conv2d(32, 32, kernel_size=3, stride=1, padding=0),\n",
    "            nn.ReLU(),\n",
    "            nn.MaxPool2d(kernel_size=2),\n",
    "\n",
    "            # The original:\n",
    "            # nn.Conv2d(1, 32, kernel_size=3, stride=1, padding=1),\n",
    "            # nn.ReLU(),\n",
    "            # nn.MaxPool2d(kernel_size=2),\n",
    "            # nn.Conv2d(32, 32, kernel_size=3, stride=1, padding=0),\n",
    "            # nn.ReLU(),\n",
    "            # nn.MaxPool2d(kernel_size=2),\n",
    "            # nn.Conv2d(32, 32, kernel_size=3, stride=1, padding=0),\n",
    "            # nn.ReLU(),\n",
    "            # nn.MaxPool2d(kernel_size=2),\n",
    "\n",
    "\n",
    "        ))\n",
    "\n",
    "    # Now train\n",
    "    model = train_model.trainloop(\n",
    "        epochs=2, # was 10\n",
    "        model=model,\n",
    "        optimizer=optimizer,\n",
    "        learning_rate=1e-3,\n",
    "        loss_fn=loss_fn,\n",
    "        metrics=[accuracy],\n",
    "        train_dataloader=train_dataloader,\n",
    "        test_dataloader=test_dataloader,\n",
    "        log_dir=\"../models/test/\",\n",
    "        train_steps=len(train_dataloader),\n",
    "        eval_steps=len(test_dataloader),\n",
    "    )\n"
   ]
  },
  {
   "cell_type": "markdown",
   "metadata": {},
   "source": [
    "Checkout results using tensorboard: \n",
    "- run `tensorboard --logdir models` in the terminal\n",
    "- tensorboard will launch at `localhost:6006` and vscode will notify you that the port is forwarded\n",
    "- you can either press the `launch` button in VScode or open your local browser at `localhost:6006`"
   ]
  }
 ],
 "metadata": {
  "kernelspec": {
   "display_name": "Python 3.10.8 64-bit",
   "language": "python",
   "name": "python3"
  },
  "language_info": {
   "codemirror_mode": {
    "name": "ipython",
    "version": 3
   },
   "file_extension": ".py",
   "mimetype": "text/x-python",
   "name": "python",
   "nbconvert_exporter": "python",
   "pygments_lexer": "ipython3",
   "version": "3.9.2"
  },
  "orig_nbformat": 4,
  "vscode": {
   "interpreter": {
    "hash": "aee8b7b246df8f9039afb4144a1f6fd8d2ca17a180786b69acc140d282b71a49"
   }
  }
 },
 "nbformat": 4,
 "nbformat_minor": 2
}
