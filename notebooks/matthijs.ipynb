{
 "cells": [
  {
   "cell_type": "markdown",
   "metadata": {},
   "source": [
    "# MoI ML CNN Experiment\n",
    "\n",
    "- Train op fashion mnist\n",
    "- Laat experimenten zien: kies 2 - 3 params, kies een range en voer tests uit. Doel is 93% accuracy."
   ]
  },
  {
   "cell_type": "code",
   "execution_count": 23,
   "metadata": {},
   "outputs": [],
   "source": [
    "import torch\n",
    "import torch.nn as nn\n",
    "import seaborn as sns\n",
    "import sys\n",
    "from pathlib import Path\n",
    "sys.path.insert(0, \"../\")"
   ]
  },
  {
   "cell_type": "code",
   "execution_count": 24,
   "metadata": {},
   "outputs": [],
   "source": [
    "from src.data import make_dataset\n",
    "from src.models import imagemodels\n",
    "from src.models import train_model\n",
    "import gin\n"
   ]
  },
  {
   "cell_type": "code",
   "execution_count": 25,
   "metadata": {},
   "outputs": [
    {
     "name": "stdout",
     "output_type": "stream",
     "text": [
      "Using cpu device\n"
     ]
    }
   ],
   "source": [
    "# Get cpu or gpu device for training.\n",
    "device = \"cuda\" if torch.cuda.is_available() else \"cpu\"\n",
    "print(f\"Using {device} device\")"
   ]
  },
  {
   "cell_type": "code",
   "execution_count": 26,
   "metadata": {},
   "outputs": [
    {
     "data": {
      "text/plain": [
       "ParsedConfigFileIncludesAndImports(filename='cnn.gin', imports=[], includes=[])"
      ]
     },
     "execution_count": 26,
     "metadata": {},
     "output_type": "execute_result"
    }
   ],
   "source": [
    "# Load config for this notebook\n",
    "gin.parse_config_file(\"cnn.gin\")"
   ]
  },
  {
   "cell_type": "code",
   "execution_count": 27,
   "metadata": {},
   "outputs": [],
   "source": [
    "# Get MNIST data\n",
    "train_dataloader, test_dataloader = make_dataset.get_MNIST()"
   ]
  },
  {
   "cell_type": "code",
   "execution_count": 28,
   "metadata": {},
   "outputs": [],
   "source": [
    "\n",
    "# Set some other parameters\n",
    "import torch.optim as optim\n",
    "from src.models import metrics\n",
    "optimizer = optim.Adam\n",
    "loss_fn = torch.nn.CrossEntropyLoss()\n",
    "accuracy = metrics.Accuracy()\n",
    "from src.models import train_model"
   ]
  },
  {
   "cell_type": "markdown",
   "metadata": {},
   "source": [
    "## Voer een experiment uit.\n"
   ]
  },
  {
   "cell_type": "markdown",
   "metadata": {},
   "source": [
    "### Configuratie voor het experiment\n",
    "\n",
    "Sla de gewenste structuur voor de lagen op in een lijst configuraties"
   ]
  },
  {
   "cell_type": "code",
   "execution_count": null,
   "metadata": {},
   "outputs": [],
   "source": [
    "from dataclasses import dataclass\n",
    "import itertools \n",
    "@dataclass\n",
    "class NNLayerConfig:\n",
    "    \"\"\"Class for storing config and results for a layer.\"\"\"\n",
    "    loss: float\n",
    "    num_params: int\n",
    "    c1_ksize: int\n",
    "    c1_stride: int\n",
    "    c2_ksize: int\n",
    "    c2_stride: int\n",
    "    num_filters: int\n",
    "\n",
    "configs = []  # List of NNLayerConfig objects\n",
    "\n",
    "# Configuration for the experiment. We ignore padding for now\n",
    "kernel_sizes = [1, 2, 3]\n",
    "filter_nums = [16, 32, 64]\n",
    "strides = [1, 2, 3]\n",
    "for config in itertools.product(kernel_sizes, # kernel size in convolution 1\n",
    "                                strides, # stride size in convolution 1\n",
    "                                kernel_sizes, # kernel size in convolution 2\n",
    "                                strides, # stride size in convolution 2\n",
    "                                filter_nums, # number of filters to use\n",
    "                                ):\n",
    "    configs.append(NNLayerConfig(\n",
    "        loss = 0,\n",
    "        num_params = 0,\n",
    "        c1_ksize = config[0],\n",
    "        c1_stride = config[1],\n",
    "        c2_ksize = config[2],\n",
    "        c2_stride = config[2],\n",
    "        num_filters = int,\n",
    "    ))\n"
   ]
  },
  {
   "cell_type": "markdown",
   "metadata": {},
   "source": [
    "Maak een klasse die met een configuratie als input een NN maakt."
   ]
  },
  {
   "cell_type": "code",
   "execution_count": 37,
   "metadata": {},
   "outputs": [],
   "source": [
    "\n",
    "\n",
    "\n",
    "# Define model\n",
    "class ConfigurableNN (nn.Module):\n",
    "\n",
    "    def __init__(self, config:NNLayerConfig):\n",
    "        super().__init__()\n",
    "\n",
    "        self.config = config\n",
    "        self.num_filters_l1 = 32 # TODO from config\n",
    "        self.max_pool_ksize = 2 # TODO from config\n",
    "\n",
    "# Calculating output size:\n",
    "# Second method: (((W - K + 2P)/S) + 1)\n",
    "#         Here W = Input size\n",
    "#         K = Filter size\n",
    "#         S = Stride\n",
    "#         P = Padding \n",
    "\n",
    "        # Convolutions are set separately\n",
    "        self.convolutions = nn.Sequential(\n",
    "            nn.Conv2d(  1, # First one is always 1\n",
    "                        self.num_filters_l1, \n",
    "                        kernel_size = config.filter1_size,\n",
    "                        stride = config.filter1_stride,\n",
    "                        padding = config.filter1_padding),\n",
    "            nn.ReLU(),\n",
    "            nn.MaxPool2d(kernel_size=self.max_pool_ksize),\n",
    "            nn.Conv2d(  self.num_filters_l1,\n",
    "                        self.num_filters_l1 * 2,\n",
    "                        kernel_size = config.filter2_size,\n",
    "                        stride = config.filter2_stride,\n",
    "                        padding = config.filter2_padding),\n",
    "            nn.ReLU(),\n",
    "            nn.MaxPool2d(kernel_size=self.max_pool_ksize)\n",
    "\n",
    "            # Werkend voorbeeld:\n",
    "            # nn.Conv2d(1, 32, kernel_size=3, stride=1, padding=1),\n",
    "            # nn.ReLU(),\n",
    "            # nn.MaxPool2d(kernel_size=2),\n",
    "            # nn.Conv2d(32, 32, kernel_size=3, stride=1, padding=0),\n",
    "            # nn.ReLU(),\n",
    "            # nn.MaxPool2d(kernel_size=2),\n",
    "            # nn.Conv2d(32, 32, kernel_size=3, stride=1, padding=0),\n",
    "            # nn.ReLU(),\n",
    "            # nn.MaxPool2d(kernel_size=2),\n",
    "\n",
    "\n",
    "        )\n",
    "        \n",
    "        # TODO Calculate the size that results from self convolutions\n",
    "        # and input it into the first parameter of the first nn.Linear below.\n",
    "        # # Dense is default for now.\n",
    "        self.dense = nn.Sequential(\n",
    "            nn.Flatten(),\n",
    "            nn.Linear(2304, 64),\n",
    "            nn.ReLU(),\n",
    "            nn.Linear(64, 32),\n",
    "            nn.ReLU(),\n",
    "            nn.Linear(32, 10)\n",
    "        )\n",
    "\n",
    "    # Forward is default for now.\n",
    "    def forward(self, x):\n",
    "        x = self.convolutions(x)\n",
    "        logits = self.dense(x)\n",
    "        return logits\n"
   ]
  },
  {
   "cell_type": "markdown",
   "metadata": {},
   "source": [
    "Loop door de configuraties heen"
   ]
  },
  {
   "cell_type": "code",
   "execution_count": null,
   "metadata": {},
   "outputs": [],
   "source": []
  },
  {
   "cell_type": "markdown",
   "metadata": {},
   "source": []
  },
  {
   "cell_type": "code",
   "execution_count": 46,
   "metadata": {},
   "outputs": [],
   "source": [
    "def dump_model_steps(model, example_input):\n",
    "    \"\"\"\n",
    "    List the steps of each convolution in a model and show the result for a given input. If possible, also show what happens in a dense layer\n",
    "    \"\"\"\n",
    "    current = example_input\n",
    "    print(\"===============\")\n",
    "    print(f'Starting model with shape {current.shape}')\n",
    "    print(\"===============\")\n",
    "    if(model.convolutions):\n",
    "        for conv in model.convolutions:\n",
    "            print(\"-----------------\")\n",
    "            print(\"Convolution:\")\n",
    "            print(conv)\n",
    "            current = conv(current)\n",
    "            print(current.shape)\n",
    "    if(model.dense):\n",
    "        print(\"Contents of dense:\")\n",
    "        for dense in model.dense:\n",
    "            print(\"-----------------\")\n",
    "            print(\"Dense:\")\n",
    "            print(dense)\n",
    "            current = dense(current)\n",
    "            print(current.shape)\n"
   ]
  },
  {
   "cell_type": "code",
   "execution_count": 45,
   "metadata": {},
   "outputs": [
    {
     "name": "stdout",
     "output_type": "stream",
     "text": [
      "===============\n",
      "Starting model with shape torch.Size([32, 1, 28, 28])\n",
      "===============\n",
      "Convolutions:\n",
      "-----------------\n",
      "Convolution:\n",
      "Conv2d(1, 32, kernel_size=(1, 1), stride=(1, 1))\n",
      "torch.Size([32, 32, 28, 28])\n",
      "-----------------\n",
      "Convolution:\n",
      "ReLU()\n",
      "torch.Size([32, 32, 28, 28])\n",
      "-----------------\n",
      "Convolution:\n",
      "MaxPool2d(kernel_size=2, stride=2, padding=0, dilation=1, ceil_mode=False)\n",
      "torch.Size([32, 32, 14, 14])\n",
      "-----------------\n",
      "Convolution:\n",
      "Conv2d(32, 64, kernel_size=(2, 2), stride=(1, 1))\n",
      "torch.Size([32, 64, 13, 13])\n",
      "-----------------\n",
      "Convolution:\n",
      "ReLU()\n",
      "torch.Size([32, 64, 13, 13])\n",
      "-----------------\n",
      "Convolution:\n",
      "MaxPool2d(kernel_size=2, stride=2, padding=0, dilation=1, ceil_mode=False)\n",
      "torch.Size([32, 64, 6, 6])\n",
      "Contents of dense:\n",
      "-----------------\n",
      "Dense:\n",
      "Flatten(start_dim=1, end_dim=-1)\n",
      "torch.Size([32, 2304])\n",
      "-----------------\n",
      "Dense:\n",
      "Linear(in_features=2304, out_features=64, bias=True)\n",
      "torch.Size([32, 64])\n",
      "-----------------\n",
      "Dense:\n",
      "ReLU()\n",
      "torch.Size([32, 64])\n",
      "-----------------\n",
      "Dense:\n",
      "Linear(in_features=64, out_features=32, bias=True)\n",
      "torch.Size([32, 32])\n",
      "-----------------\n",
      "Dense:\n",
      "ReLU()\n",
      "torch.Size([32, 32])\n",
      "-----------------\n",
      "Dense:\n",
      "Linear(in_features=32, out_features=10, bias=True)\n",
      "torch.Size([32, 10])\n"
     ]
    }
   ],
   "source": [
    "num_epochs = 2 # During development keep very low. 10 is for real tests\n",
    "learning_rate = 1e-3\n",
    "\n",
    "# For to be debugging:\n",
    "x, y = next(iter(train_dataloader))\n",
    "x.shape, y.shape\n",
    "\n",
    "\n",
    "for config in configs:\n",
    "    model = ConfigurableNN(config).to(device)\n",
    "    dump_model_steps(model, x)\n",
    "    break\n",
    "    model = train_model.trainloop(\n",
    "        epochs=num_epochs,\n",
    "        model=model,\n",
    "        optimizer=optimizer,\n",
    "        learning_rate=learning_rate,\n",
    "        loss_fn=loss_fn,\n",
    "        metrics=[accuracy],\n",
    "        train_dataloader=train_dataloader,\n",
    "        test_dataloader=test_dataloader,\n",
    "        log_dir=\"../models/test/\",\n",
    "        train_steps=len(train_dataloader),\n",
    "        eval_steps=len(test_dataloader),\n",
    "    )\n",
    "    break # During development\n",
    "    "
   ]
  },
  {
   "cell_type": "markdown",
   "metadata": {},
   "source": [
    "Checkout results using tensorboard: \n",
    "- run `tensorboard --logdir models` in the terminal\n",
    "- tensorboard will launch at `localhost:6006` and vscode will notify you that the port is forwarded\n",
    "- you can either press the `launch` button in VScode or open your local browser at `localhost:6006`"
   ]
  }
 ],
 "metadata": {
  "kernelspec": {
   "display_name": "Python 3.10.8 64-bit",
   "language": "python",
   "name": "python3"
  },
  "language_info": {
   "codemirror_mode": {
    "name": "ipython",
    "version": 3
   },
   "file_extension": ".py",
   "mimetype": "text/x-python",
   "name": "python",
   "nbconvert_exporter": "python",
   "pygments_lexer": "ipython3",
   "version": "3.9.2"
  },
  "orig_nbformat": 4,
  "vscode": {
   "interpreter": {
    "hash": "aee8b7b246df8f9039afb4144a1f6fd8d2ca17a180786b69acc140d282b71a49"
   }
  }
 },
 "nbformat": 4,
 "nbformat_minor": 2
}
